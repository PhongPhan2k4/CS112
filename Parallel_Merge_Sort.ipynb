{
  "cells": [
    {
      "cell_type": "markdown",
      "source": [
        "# **Merge Sort**"
      ],
      "metadata": {
        "id": "kbGl2z6x-orV"
      }
    },
    {
      "cell_type": "markdown",
      "source": [
        "## Import Libraries"
      ],
      "metadata": {
        "id": "0EA1X5NI-k0Y"
      }
    },
    {
      "cell_type": "code",
      "source": [
        "import time\n",
        "import numpy as np\n",
        "import threading\n",
        "import multiprocessing\n",
        "import pandas as pd\n",
        "import math\n",
        "import matplotlib.pyplot as plt\n",
        "%matplotlib inline\n",
        "import seaborn as sns"
      ],
      "metadata": {
        "id": "BMoijMxLYRUs"
      },
      "execution_count": 19,
      "outputs": []
    },
    {
      "cell_type": "markdown",
      "source": [
        "## Merge Function"
      ],
      "metadata": {
        "id": "Fdi2RzAbv_ph"
      }
    },
    {
      "cell_type": "code",
      "source": [
        "def merge(left_half, right_half):\n",
        "    i = j = k = 0\n",
        "    merged = []\n",
        "    while i < len(left_half) and j < len(right_half):\n",
        "        if left_half[i] < right_half[j]:\n",
        "            merged.append(left_half[i])\n",
        "            i += 1\n",
        "        else:\n",
        "            merged.append(right_half[j])\n",
        "            j += 1\n",
        "\n",
        "    while i < len(left_half):\n",
        "        merged.append(left_half[i])\n",
        "        i += 1\n",
        "\n",
        "    while j < len(right_half):\n",
        "        merged.append(right_half[j])\n",
        "        j += 1\n",
        "\n",
        "    return merged"
      ],
      "metadata": {
        "id": "1AKkySg7k4fh"
      },
      "execution_count": 20,
      "outputs": []
    },
    {
      "cell_type": "markdown",
      "source": [
        "## Merge Sort"
      ],
      "metadata": {
        "id": "SmCD9YZkwCWc"
      }
    },
    {
      "cell_type": "code",
      "source": [
        "def merge_sort(arr):\n",
        "    length = len(arr)\n",
        "    if length <= 1:\n",
        "        return arr\n",
        "    middle = length // 2\n",
        "    left = merge_sort(arr[:middle])\n",
        "    right = merge_sort(arr[middle:])\n",
        "    return merge(left, right)"
      ],
      "metadata": {
        "id": "QqUwAB5IlXpw"
      },
      "execution_count": 21,
      "outputs": []
    },
    {
      "cell_type": "markdown",
      "source": [
        "## Parallel Merge Sort using multi threads"
      ],
      "metadata": {
        "id": "apZHckG7wFFM"
      }
    },
    {
      "cell_type": "code",
      "source": [
        "def parallel_multi_thread(arr):\n",
        "    # If the array is empty or contains only one element, it's already sorted.\n",
        "    if len(arr) <= 1:\n",
        "        return arr\n",
        "\n",
        "    # Using merge_sort if array size is small.\n",
        "    if len(arr) <= 1000:\n",
        "        return merge_sort(arr)\n",
        "\n",
        "    # Split the array into two halves\n",
        "    mid = len(arr) // 2\n",
        "    left = arr[:mid]\n",
        "    right = arr[mid:]\n",
        "\n",
        "    # Lists to store the sorted results of the left and right halves\n",
        "    left_result = []\n",
        "    right_result = []\n",
        "\n",
        "    # Function to sort a portion of the array and store the result in a provided list\n",
        "    def sort_and_store_result(arr, result):\n",
        "        result.extend(merge_sort(arr))\n",
        "\n",
        "    # Create two threads for sorting the left and right halves\n",
        "    left_thread = threading.Thread(target=sort_and_store_result, args=(left, left_result))\n",
        "    right_thread = threading.Thread(target=sort_and_store_result, args=(right, right_result))\n",
        "\n",
        "    # Start the threads\n",
        "    left_thread.start()\n",
        "    right_thread.start()\n",
        "\n",
        "    # Wait for the threads to finish\n",
        "    left_thread.join()\n",
        "    right_thread.join()\n",
        "\n",
        "    # Merge the sorted left and right results into a single sorted array and return it\n",
        "    return merge(left_result, right_result)\n"
      ],
      "metadata": {
        "id": "BN2ZIxltlvZ4"
      },
      "execution_count": 22,
      "outputs": []
    },
    {
      "cell_type": "markdown",
      "source": [
        "## Parallel Merge Sort using multi processes"
      ],
      "metadata": {
        "id": "t0-GjipF6FYr"
      }
    },
    {
      "cell_type": "code",
      "source": [
        "def parallel_multi_process(arr):\n",
        "    # If the array is empty or contains only one element, it's already sorted.\n",
        "    if len(arr) <= 1:\n",
        "        return arr\n",
        "\n",
        "    # Using merge_sort if array size is small.\n",
        "    if len(arr) <= 1000:\n",
        "        return merge_sort(arr)\n",
        "\n",
        "    # Split the array into two halves\n",
        "    mid = len(arr) // 2\n",
        "    left = arr[:mid]\n",
        "    right = arr[mid:]\n",
        "\n",
        "    # Function to sort a portion of the array and store the result in a provided list\n",
        "    def sort_and_store_result(arr, result):\n",
        "        result.extend(merge_sort(arr))\n",
        "\n",
        "    # Lists to store the sorted results of the left and right halves\n",
        "    left_result = []\n",
        "    right_result = []\n",
        "\n",
        "    # Create two processes for sorting the left and right halves\n",
        "    left_process = multiprocessing.Process(target=sort_and_store_result, args=(left, left_result))\n",
        "    right_process = multiprocessing.Process(target=sort_and_store_result, args=(right, right_result))\n",
        "\n",
        "    # Start the processes\n",
        "    left_process.start()\n",
        "    right_process.start()\n",
        "\n",
        "    # Wait for the processes to finish\n",
        "    left_process.join()\n",
        "    right_process.join()\n",
        "\n",
        "    # Merge the sorted left and right results into a single sorted array and return it\n",
        "    return merge(left_result, right_result)"
      ],
      "metadata": {
        "id": "f5rg0INZ4ZiU"
      },
      "execution_count": 23,
      "outputs": []
    },
    {
      "cell_type": "markdown",
      "source": [
        "## Execute"
      ],
      "metadata": {
        "id": "xHjAPrCpzpYm"
      }
    },
    {
      "cell_type": "code",
      "source": [
        "# Size of array to sort\n",
        "sizes = [10, 100, 1000, 10000, 100000, 1000000]\n",
        "\n",
        "# List to store time execute algorithms\n",
        "merge_sort_time = []\n",
        "multi_threads_time = []\n",
        "multi_processes_time = []\n",
        "\n",
        "for size in sizes:\n",
        "  # Create random array\n",
        "  arr = np.random.randint(size, size=size)\n",
        "\n",
        "  # execute merge sort\n",
        "  start = time.time()\n",
        "  sorted = merge_sort(arr)\n",
        "  merge_sort_time.append(time.time() - start)\n",
        "\n",
        "  # execute parallel multi thread\n",
        "  start = time.time()\n",
        "  sorted = parallel_multi_thread(arr)\n",
        "  multi_threads_time.append(time.time() - start)\n",
        "\n",
        "  # execute parallel multi process\n",
        "  start = time.time()\n",
        "  sorted = parallel_multi_process(arr)\n",
        "  multi_processes_time.append(time.time() - start)"
      ],
      "metadata": {
        "id": "YKnYQnLllwii"
      },
      "execution_count": 24,
      "outputs": []
    },
    {
      "cell_type": "code",
      "source": [
        "dict = {'Size' : sizes, 'Merge Sort' : merge_sort_time, 'Parallel multi thread' : multi_threads_time, 'Parallel multi process' : multi_processes_time}"
      ],
      "metadata": {
        "id": "5lWIfZ4E1LIr"
      },
      "execution_count": 25,
      "outputs": []
    },
    {
      "cell_type": "code",
      "source": [
        "df = pd.DataFrame(dict)\n",
        "df"
      ],
      "metadata": {
        "colab": {
          "base_uri": "https://localhost:8080/",
          "height": 237
        },
        "id": "xDCpYcRC00Yn",
        "outputId": "f3573543-2318-4ba0-cef1-255ed4ead8a8"
      },
      "execution_count": 26,
      "outputs": [
        {
          "output_type": "execute_result",
          "data": {
            "text/plain": [
              "      Size  Merge Sort  Parallel multi thread  Parallel multi process\n",
              "0       10    0.000040               0.000031                0.000028\n",
              "1      100    0.000415               0.000438                0.000392\n",
              "2     1000    0.004724               0.003366                0.002314\n",
              "3    10000    0.031850               0.033870                0.050243\n",
              "4   100000    0.394978               0.428410                0.364162\n",
              "5  1000000    5.292411               4.872969                3.979842"
            ],
            "text/html": [
              "\n",
              "  <div id=\"df-3cf68f8d-f567-4915-99df-a64eeaa2a9f6\" class=\"colab-df-container\">\n",
              "    <div>\n",
              "<style scoped>\n",
              "    .dataframe tbody tr th:only-of-type {\n",
              "        vertical-align: middle;\n",
              "    }\n",
              "\n",
              "    .dataframe tbody tr th {\n",
              "        vertical-align: top;\n",
              "    }\n",
              "\n",
              "    .dataframe thead th {\n",
              "        text-align: right;\n",
              "    }\n",
              "</style>\n",
              "<table border=\"1\" class=\"dataframe\">\n",
              "  <thead>\n",
              "    <tr style=\"text-align: right;\">\n",
              "      <th></th>\n",
              "      <th>Size</th>\n",
              "      <th>Merge Sort</th>\n",
              "      <th>Parallel multi thread</th>\n",
              "      <th>Parallel multi process</th>\n",
              "    </tr>\n",
              "  </thead>\n",
              "  <tbody>\n",
              "    <tr>\n",
              "      <th>0</th>\n",
              "      <td>10</td>\n",
              "      <td>0.000040</td>\n",
              "      <td>0.000031</td>\n",
              "      <td>0.000028</td>\n",
              "    </tr>\n",
              "    <tr>\n",
              "      <th>1</th>\n",
              "      <td>100</td>\n",
              "      <td>0.000415</td>\n",
              "      <td>0.000438</td>\n",
              "      <td>0.000392</td>\n",
              "    </tr>\n",
              "    <tr>\n",
              "      <th>2</th>\n",
              "      <td>1000</td>\n",
              "      <td>0.004724</td>\n",
              "      <td>0.003366</td>\n",
              "      <td>0.002314</td>\n",
              "    </tr>\n",
              "    <tr>\n",
              "      <th>3</th>\n",
              "      <td>10000</td>\n",
              "      <td>0.031850</td>\n",
              "      <td>0.033870</td>\n",
              "      <td>0.050243</td>\n",
              "    </tr>\n",
              "    <tr>\n",
              "      <th>4</th>\n",
              "      <td>100000</td>\n",
              "      <td>0.394978</td>\n",
              "      <td>0.428410</td>\n",
              "      <td>0.364162</td>\n",
              "    </tr>\n",
              "    <tr>\n",
              "      <th>5</th>\n",
              "      <td>1000000</td>\n",
              "      <td>5.292411</td>\n",
              "      <td>4.872969</td>\n",
              "      <td>3.979842</td>\n",
              "    </tr>\n",
              "  </tbody>\n",
              "</table>\n",
              "</div>\n",
              "    <div class=\"colab-df-buttons\">\n",
              "\n",
              "  <div class=\"colab-df-container\">\n",
              "    <button class=\"colab-df-convert\" onclick=\"convertToInteractive('df-3cf68f8d-f567-4915-99df-a64eeaa2a9f6')\"\n",
              "            title=\"Convert this dataframe to an interactive table.\"\n",
              "            style=\"display:none;\">\n",
              "\n",
              "  <svg xmlns=\"http://www.w3.org/2000/svg\" height=\"24px\" viewBox=\"0 -960 960 960\">\n",
              "    <path d=\"M120-120v-720h720v720H120Zm60-500h600v-160H180v160Zm220 220h160v-160H400v160Zm0 220h160v-160H400v160ZM180-400h160v-160H180v160Zm440 0h160v-160H620v160ZM180-180h160v-160H180v160Zm440 0h160v-160H620v160Z\"/>\n",
              "  </svg>\n",
              "    </button>\n",
              "\n",
              "  <style>\n",
              "    .colab-df-container {\n",
              "      display:flex;\n",
              "      gap: 12px;\n",
              "    }\n",
              "\n",
              "    .colab-df-convert {\n",
              "      background-color: #E8F0FE;\n",
              "      border: none;\n",
              "      border-radius: 50%;\n",
              "      cursor: pointer;\n",
              "      display: none;\n",
              "      fill: #1967D2;\n",
              "      height: 32px;\n",
              "      padding: 0 0 0 0;\n",
              "      width: 32px;\n",
              "    }\n",
              "\n",
              "    .colab-df-convert:hover {\n",
              "      background-color: #E2EBFA;\n",
              "      box-shadow: 0px 1px 2px rgba(60, 64, 67, 0.3), 0px 1px 3px 1px rgba(60, 64, 67, 0.15);\n",
              "      fill: #174EA6;\n",
              "    }\n",
              "\n",
              "    .colab-df-buttons div {\n",
              "      margin-bottom: 4px;\n",
              "    }\n",
              "\n",
              "    [theme=dark] .colab-df-convert {\n",
              "      background-color: #3B4455;\n",
              "      fill: #D2E3FC;\n",
              "    }\n",
              "\n",
              "    [theme=dark] .colab-df-convert:hover {\n",
              "      background-color: #434B5C;\n",
              "      box-shadow: 0px 1px 3px 1px rgba(0, 0, 0, 0.15);\n",
              "      filter: drop-shadow(0px 1px 2px rgba(0, 0, 0, 0.3));\n",
              "      fill: #FFFFFF;\n",
              "    }\n",
              "  </style>\n",
              "\n",
              "    <script>\n",
              "      const buttonEl =\n",
              "        document.querySelector('#df-3cf68f8d-f567-4915-99df-a64eeaa2a9f6 button.colab-df-convert');\n",
              "      buttonEl.style.display =\n",
              "        google.colab.kernel.accessAllowed ? 'block' : 'none';\n",
              "\n",
              "      async function convertToInteractive(key) {\n",
              "        const element = document.querySelector('#df-3cf68f8d-f567-4915-99df-a64eeaa2a9f6');\n",
              "        const dataTable =\n",
              "          await google.colab.kernel.invokeFunction('convertToInteractive',\n",
              "                                                    [key], {});\n",
              "        if (!dataTable) return;\n",
              "\n",
              "        const docLinkHtml = 'Like what you see? Visit the ' +\n",
              "          '<a target=\"_blank\" href=https://colab.research.google.com/notebooks/data_table.ipynb>data table notebook</a>'\n",
              "          + ' to learn more about interactive tables.';\n",
              "        element.innerHTML = '';\n",
              "        dataTable['output_type'] = 'display_data';\n",
              "        await google.colab.output.renderOutput(dataTable, element);\n",
              "        const docLink = document.createElement('div');\n",
              "        docLink.innerHTML = docLinkHtml;\n",
              "        element.appendChild(docLink);\n",
              "      }\n",
              "    </script>\n",
              "  </div>\n",
              "\n",
              "\n",
              "<div id=\"df-4bd0ef0c-d2c0-426e-9f1c-77ccf6db2fb2\">\n",
              "  <button class=\"colab-df-quickchart\" onclick=\"quickchart('df-4bd0ef0c-d2c0-426e-9f1c-77ccf6db2fb2')\"\n",
              "            title=\"Suggest charts\"\n",
              "            style=\"display:none;\">\n",
              "\n",
              "<svg xmlns=\"http://www.w3.org/2000/svg\" height=\"24px\"viewBox=\"0 0 24 24\"\n",
              "     width=\"24px\">\n",
              "    <g>\n",
              "        <path d=\"M19 3H5c-1.1 0-2 .9-2 2v14c0 1.1.9 2 2 2h14c1.1 0 2-.9 2-2V5c0-1.1-.9-2-2-2zM9 17H7v-7h2v7zm4 0h-2V7h2v10zm4 0h-2v-4h2v4z\"/>\n",
              "    </g>\n",
              "</svg>\n",
              "  </button>\n",
              "\n",
              "<style>\n",
              "  .colab-df-quickchart {\n",
              "      --bg-color: #E8F0FE;\n",
              "      --fill-color: #1967D2;\n",
              "      --hover-bg-color: #E2EBFA;\n",
              "      --hover-fill-color: #174EA6;\n",
              "      --disabled-fill-color: #AAA;\n",
              "      --disabled-bg-color: #DDD;\n",
              "  }\n",
              "\n",
              "  [theme=dark] .colab-df-quickchart {\n",
              "      --bg-color: #3B4455;\n",
              "      --fill-color: #D2E3FC;\n",
              "      --hover-bg-color: #434B5C;\n",
              "      --hover-fill-color: #FFFFFF;\n",
              "      --disabled-bg-color: #3B4455;\n",
              "      --disabled-fill-color: #666;\n",
              "  }\n",
              "\n",
              "  .colab-df-quickchart {\n",
              "    background-color: var(--bg-color);\n",
              "    border: none;\n",
              "    border-radius: 50%;\n",
              "    cursor: pointer;\n",
              "    display: none;\n",
              "    fill: var(--fill-color);\n",
              "    height: 32px;\n",
              "    padding: 0;\n",
              "    width: 32px;\n",
              "  }\n",
              "\n",
              "  .colab-df-quickchart:hover {\n",
              "    background-color: var(--hover-bg-color);\n",
              "    box-shadow: 0 1px 2px rgba(60, 64, 67, 0.3), 0 1px 3px 1px rgba(60, 64, 67, 0.15);\n",
              "    fill: var(--button-hover-fill-color);\n",
              "  }\n",
              "\n",
              "  .colab-df-quickchart-complete:disabled,\n",
              "  .colab-df-quickchart-complete:disabled:hover {\n",
              "    background-color: var(--disabled-bg-color);\n",
              "    fill: var(--disabled-fill-color);\n",
              "    box-shadow: none;\n",
              "  }\n",
              "\n",
              "  .colab-df-spinner {\n",
              "    border: 2px solid var(--fill-color);\n",
              "    border-color: transparent;\n",
              "    border-bottom-color: var(--fill-color);\n",
              "    animation:\n",
              "      spin 1s steps(1) infinite;\n",
              "  }\n",
              "\n",
              "  @keyframes spin {\n",
              "    0% {\n",
              "      border-color: transparent;\n",
              "      border-bottom-color: var(--fill-color);\n",
              "      border-left-color: var(--fill-color);\n",
              "    }\n",
              "    20% {\n",
              "      border-color: transparent;\n",
              "      border-left-color: var(--fill-color);\n",
              "      border-top-color: var(--fill-color);\n",
              "    }\n",
              "    30% {\n",
              "      border-color: transparent;\n",
              "      border-left-color: var(--fill-color);\n",
              "      border-top-color: var(--fill-color);\n",
              "      border-right-color: var(--fill-color);\n",
              "    }\n",
              "    40% {\n",
              "      border-color: transparent;\n",
              "      border-right-color: var(--fill-color);\n",
              "      border-top-color: var(--fill-color);\n",
              "    }\n",
              "    60% {\n",
              "      border-color: transparent;\n",
              "      border-right-color: var(--fill-color);\n",
              "    }\n",
              "    80% {\n",
              "      border-color: transparent;\n",
              "      border-right-color: var(--fill-color);\n",
              "      border-bottom-color: var(--fill-color);\n",
              "    }\n",
              "    90% {\n",
              "      border-color: transparent;\n",
              "      border-bottom-color: var(--fill-color);\n",
              "    }\n",
              "  }\n",
              "</style>\n",
              "\n",
              "  <script>\n",
              "    async function quickchart(key) {\n",
              "      const quickchartButtonEl =\n",
              "        document.querySelector('#' + key + ' button');\n",
              "      quickchartButtonEl.disabled = true;  // To prevent multiple clicks.\n",
              "      quickchartButtonEl.classList.add('colab-df-spinner');\n",
              "      try {\n",
              "        const charts = await google.colab.kernel.invokeFunction(\n",
              "            'suggestCharts', [key], {});\n",
              "      } catch (error) {\n",
              "        console.error('Error during call to suggestCharts:', error);\n",
              "      }\n",
              "      quickchartButtonEl.classList.remove('colab-df-spinner');\n",
              "      quickchartButtonEl.classList.add('colab-df-quickchart-complete');\n",
              "    }\n",
              "    (() => {\n",
              "      let quickchartButtonEl =\n",
              "        document.querySelector('#df-4bd0ef0c-d2c0-426e-9f1c-77ccf6db2fb2 button');\n",
              "      quickchartButtonEl.style.display =\n",
              "        google.colab.kernel.accessAllowed ? 'block' : 'none';\n",
              "    })();\n",
              "  </script>\n",
              "</div>\n",
              "    </div>\n",
              "  </div>\n"
            ]
          },
          "metadata": {},
          "execution_count": 26
        }
      ]
    },
    {
      "cell_type": "code",
      "source": [
        "plt.title(\"Time Chart\")\n",
        "sns.lineplot(data=df.drop('Size', axis=1))"
      ],
      "metadata": {
        "colab": {
          "base_uri": "https://localhost:8080/",
          "height": 470
        },
        "id": "1RzK7b7-DJYr",
        "outputId": "448175a4-0a1f-4e89-b84b-1bf4e53b412e"
      },
      "execution_count": 27,
      "outputs": [
        {
          "output_type": "execute_result",
          "data": {
            "text/plain": [
              "<Axes: title={'center': 'Time Chart'}>"
            ]
          },
          "metadata": {},
          "execution_count": 27
        },
        {
          "output_type": "display_data",
          "data": {
            "text/plain": [
              "<Figure size 640x480 with 1 Axes>"
            ],
            "image/png": "[encoded data removed]"
          },
          "metadata": {}
        }
      ]
    }
  ],
  "metadata": {
    "colab": {
      "provenance": []
    },
    "kernelspec": {
      "display_name": "Python 3",
      "name": "python3"
    },
    "language_info": {
      "name": "python"
    }
  },
  "nbformat": 4,
  "nbformat_minor": 0
}